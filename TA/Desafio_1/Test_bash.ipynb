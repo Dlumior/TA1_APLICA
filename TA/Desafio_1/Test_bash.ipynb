{
 "cells": [
  {
   "cell_type": "code",
   "execution_count": 32,
   "metadata": {
    "scrolled": true
   },
   "outputs": [],
   "source": [
    "!python findroute.py --calles Archivos\\edges_pitts.txt -s 104878620 -g 105012740 -m dfs > salida1.txt"
   ]
  },
  {
   "cell_type": "code",
   "execution_count": 33,
   "metadata": {},
   "outputs": [],
   "source": [
    "!python findroute.py --calles Archivos\\edges_pitts.txt -s 104878620 -g 105012740 -m bfs > salida2.txt"
   ]
  },
  {
   "cell_type": "code",
   "execution_count": 34,
   "metadata": {
    "scrolled": true
   },
   "outputs": [],
   "source": [
    "!python findroute.py --calles Archivos\\edges_pitts.txt -s 104878620 -g 105012740 -m ids > salida3.txt"
   ]
  },
  {
   "cell_type": "code",
   "execution_count": 35,
   "metadata": {},
   "outputs": [],
   "source": [
    "!python findroute.py --calles Archivos\\edges_pitts.txt -s 104878620 -g 105012740 -m bis > salida4.txt"
   ]
  },
  {
   "cell_type": "code",
   "execution_count": 12,
   "metadata": {},
   "outputs": [],
   "source": [
    "!python findroute.py --calles Archivos\\edges_pitts.txt -s 104878620 -g 105012740 -m astar -l Archivos\\heuristics_pitts.txt > salida5.txt"
   ]
  },
  {
   "cell_type": "code",
   "execution_count": 27,
   "metadata": {
    "scrolled": true
   },
   "outputs": [
    {
     "name": "stdout",
     "output_type": "stream",
     "text": [
      "Ruta encontrada: ['go8', 'go2', 'go10']\n",
      "Costo de la ruta encontrada:        10.00\n",
      "Numero de nodos en la ruta encontrada:  3\n",
      "Numero de nodos visitados:             31\n",
      "Numero de nodos en memoria:             3\n",
      "Tiempo de ejecucion:         0.0009756088\n"
     ]
    }
   ],
   "source": [
    "!python findroute.py --calles Archivos\\datos.txt -s 1 -g 10 -m ids"
   ]
  },
  {
   "cell_type": "code",
   "execution_count": 28,
   "metadata": {
    "scrolled": false
   },
   "outputs": [
    {
     "name": "stdout",
     "output_type": "stream",
     "text": [
      "Ruta encontrada: ['go8', 'go7', 'go10']\n",
      "Costo de la ruta encontrada:        10.00\n",
      "Numero de nodos en la ruta encontrada:  3\n",
      "Numero de nodos visitados:              5\n",
      "Numero de nodos en memoria:             8\n",
      "Tiempo de ejecucion:         0.0000000000\n"
     ]
    }
   ],
   "source": [
    "!python findroute.py --calles Archivos\\datos.txt -s 1 -g 10 -m dfs"
   ]
  },
  {
   "cell_type": "code",
   "execution_count": 29,
   "metadata": {},
   "outputs": [
    {
     "name": "stdout",
     "output_type": "stream",
     "text": [
      "Ruta encontrada: ['go8', 'go2', 'go10']\n",
      "Costo de la ruta encontrada:        10.00\n",
      "Numero de nodos en la ruta encontrada:  3\n",
      "Numero de nodos visitados:             11\n",
      "Numero de nodos en memoria:            11\n",
      "Tiempo de ejecucion:         0.0009641647\n"
     ]
    }
   ],
   "source": [
    "!python findroute.py --calles Archivos\\datos.txt -s 1 -g 10 -m bfs"
   ]
  },
  {
   "cell_type": "code",
   "execution_count": 30,
   "metadata": {
    "scrolled": true
   },
   "outputs": [
    {
     "name": "stdout",
     "output_type": "stream",
     "text": [
      "Ruta encontrada: ['go3', 'go6', 'go9']\n",
      "Costo de la ruta encontrada:        14.00\n",
      "Numero de nodos en la ruta encontrada:  3\n",
      "Numero de nodos visitados:              0\n",
      "Numero de nodos en memoria:             0\n",
      "Tiempo de ejecucion:         0.0000000000\n"
     ]
    }
   ],
   "source": [
    "!python findroute.py -e Archivos\\datos.txt -s 1 -g 10 -m bis"
   ]
  },
  {
   "cell_type": "code",
   "execution_count": 11,
   "metadata": {},
   "outputs": [
    {
     "name": "stdout",
     "output_type": "stream",
     "text": [
      "Ruta encontrada: ['go8', 'go2', 'go10']\n",
      "Costo de la ruta encontrada:        10.00\n",
      "Numero de nodos en la ruta encontrada:  3\n",
      "Numero de nodos visitados:              0\n",
      "Numero de nodos en memoria:             0\n",
      "Tiempo de ejecucion:         0.0000000000\n"
     ]
    }
   ],
   "source": [
    "!python findroute.py -e Archivos\\datos.txt -s 1 -g 10 -m astar -l Archivos\\h_datos.txt"
   ]
  }
 ],
 "metadata": {
  "kernelspec": {
   "display_name": "Python 3",
   "language": "python",
   "name": "python3"
  },
  "language_info": {
   "codemirror_mode": {
    "name": "ipython",
    "version": 3
   },
   "file_extension": ".py",
   "mimetype": "text/x-python",
   "name": "python",
   "nbconvert_exporter": "python",
   "pygments_lexer": "ipython3",
   "version": "3.7.1"
  }
 },
 "nbformat": 4,
 "nbformat_minor": 2
}
